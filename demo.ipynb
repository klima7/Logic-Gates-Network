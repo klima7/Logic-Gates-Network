{
 "cells": [
  {
   "cell_type": "code",
   "execution_count": 1,
   "outputs": [],
   "source": [
    "import numpy as np\n",
    "import pandas as pd\n",
    "from gates import Network\n",
    "from sklearn.preprocessing import OneHotEncoder\n",
    "\n",
    "from optimizers import GeneticOptimizer\n",
    "from optimizers.genetic import RouletteWheelSelection, RankSelection, NRandomChangesMutation, MultiPointCrossing, HighestAccuracyFitness, LowestMseFitness"
   ],
   "metadata": {
    "collapsed": false,
    "pycharm": {
     "name": "#%%\n"
    }
   }
  },
  {
   "cell_type": "markdown",
   "source": [
    "## Preparing data"
   ],
   "metadata": {
    "collapsed": false,
    "pycharm": {
     "name": "#%% md\n"
    }
   }
  },
  {
   "cell_type": "code",
   "execution_count": 2,
   "outputs": [],
   "source": [
    "data = pd.read_csv('data/zoo.csv')"
   ],
   "metadata": {
    "collapsed": false,
    "pycharm": {
     "name": "#%%\n"
    }
   }
  },
  {
   "cell_type": "code",
   "execution_count": 3,
   "outputs": [],
   "source": [
    "legs = data['legs']\n",
    "other_features = data.drop(columns=['animal_name', 'legs', 'class_type']).to_numpy()\n",
    "legs_onehot = OneHotEncoder().fit_transform(legs.to_numpy().reshape(-1, 1)).todense()\n",
    "features = np.hstack([other_features, legs_onehot])\n",
    "features = np.array(features.astype(bool))"
   ],
   "metadata": {
    "collapsed": false,
    "pycharm": {
     "name": "#%%\n"
    }
   }
  },
  {
   "cell_type": "code",
   "execution_count": 4,
   "outputs": [],
   "source": [
    "y = data['class_type'].to_numpy()\n",
    "\n",
    "is_mammal = y == 1\n",
    "is_bird = y == 2\n",
    "is_reptile = y == 3\n",
    "is_fish = y == 4\n",
    "is_amphibian = y == 5\n",
    "is_bug = y == 6"
   ],
   "metadata": {
    "collapsed": false,
    "pycharm": {
     "name": "#%%\n"
    }
   }
  },
  {
   "cell_type": "markdown",
   "source": [
    "## Optimizing network"
   ],
   "metadata": {
    "collapsed": false,
    "pycharm": {
     "name": "#%% md\n"
    }
   }
  },
  {
   "cell_type": "code",
   "execution_count": 5,
   "outputs": [],
   "source": [
    "network = Network(21, [40, 50, 50, 40])\n",
    "network.evaluate(features, is_fish)"
   ],
   "metadata": {
    "collapsed": false,
    "pycharm": {
     "name": "#%%\n"
    }
   }
  },
  {
   "cell_type": "code",
   "execution_count": 7,
   "outputs": [
    {
     "name": "stdout",
     "output_type": "stream",
     "text": [
      "Optimizing 905 parameters\n"
     ]
    },
    {
     "name": "stderr",
     "output_type": "stream",
     "text": [
      "Evolution:   3%|▎         | 6/200 [00:05<02:41,  1.20it/s, fitness: inf, accuracy: 0.960]               \n"
     ]
    }
   ],
   "source": [
    "optimizer = GeneticOptimizer(\n",
    "    fitness=LowestMseFitness(),\n",
    "    crossing=MultiPointCrossing(3),\n",
    "    mutation=NRandomChangesMutation(4),\n",
    "    selection=RouletteWheelSelection(),\n",
    "    cross_prob=0.7,\n",
    "    mutate_prob=0.2,\n",
    "    n_chromosomes=100,\n",
    "    n_generations=200,\n",
    "    n_elite=4,\n",
    "    patience=30,\n",
    ")\n",
    "\n",
    "optimizer.optimize(network, features, is_fish)"
   ],
   "metadata": {
    "collapsed": false,
    "pycharm": {
     "name": "#%%\n"
    }
   }
  },
  {
   "cell_type": "code",
   "execution_count": 9,
   "outputs": [
    {
     "data": {
      "text/plain": "1.0"
     },
     "execution_count": 9,
     "metadata": {},
     "output_type": "execute_result"
    }
   ],
   "source": [
    "network.evaluate(features, is_fish)"
   ],
   "metadata": {
    "collapsed": false,
    "pycharm": {
     "name": "#%%\n"
    }
   }
  }
 ],
 "metadata": {
  "kernelspec": {
   "display_name": "Python 3",
   "language": "python",
   "name": "python3"
  },
  "language_info": {
   "codemirror_mode": {
    "name": "ipython",
    "version": 2
   },
   "file_extension": ".py",
   "mimetype": "text/x-python",
   "name": "python",
   "nbconvert_exporter": "python",
   "pygments_lexer": "ipython2",
   "version": "2.7.6"
  }
 },
 "nbformat": 4,
 "nbformat_minor": 0
}